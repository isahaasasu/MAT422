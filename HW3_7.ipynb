{
  "nbformat": 4,
  "nbformat_minor": 0,
  "metadata": {
    "colab": {
      "provenance": [],
      "authorship_tag": "ABX9TyPSwJ4RLBTXyOaaDNz7EiEs",
      "include_colab_link": true
    },
    "kernelspec": {
      "name": "python3",
      "display_name": "Python 3"
    },
    "language_info": {
      "name": "python"
    }
  },
  "cells": [
    {
      "cell_type": "markdown",
      "metadata": {
        "id": "view-in-github",
        "colab_type": "text"
      },
      "source": [
        "<a href=\"https://colab.research.google.com/github/isahaasasu/MAT422/blob/main/HW3_7.ipynb\" target=\"_parent\"><img src=\"https://colab.research.google.com/assets/colab-badge.svg\" alt=\"Open In Colab\"/></a>"
      ]
    },
    {
      "cell_type": "markdown",
      "source": [
        "# **Homework 3.7**"
      ],
      "metadata": {
        "id": "TNYBW4q-I0b2"
      }
    },
    {
      "cell_type": "markdown",
      "source": [
        "## Neural Networks"
      ],
      "metadata": {
        "id": "2s52zzopI4p2"
      }
    },
    {
      "cell_type": "code",
      "execution_count": 1,
      "metadata": {
        "id": "JrsKYL-MIvOM"
      },
      "outputs": [],
      "source": [
        "import tensorflow as tf"
      ]
    },
    {
      "cell_type": "code",
      "source": [
        "# load the dataset\n",
        "mnist = tf.keras.datasets.mnist\n",
        "\n",
        "# convert the samples from integers to floating-point numbers\n",
        "(x_train, y_train), (x_test, y_test) = mnist.load_data()\n",
        "x_train, x_test = x_train / 255.0, x_test / 255.0"
      ],
      "metadata": {
        "colab": {
          "base_uri": "https://localhost:8080/"
        },
        "id": "XgVwKT_2JHvl",
        "outputId": "392289e4-7509-4214-f867-323fe7115523"
      },
      "execution_count": 2,
      "outputs": [
        {
          "output_type": "stream",
          "name": "stdout",
          "text": [
            "Downloading data from https://storage.googleapis.com/tensorflow/tf-keras-datasets/mnist.npz\n",
            "11490434/11490434 [==============================] - 0s 0us/step\n"
          ]
        }
      ]
    },
    {
      "cell_type": "code",
      "source": [
        "model = tf.keras.models.Sequential([\n",
        "  tf.keras.layers.Flatten(input_shape=(28, 28)),\n",
        "  tf.keras.layers.Dense(128, activation='relu'),\n",
        "  tf.keras.layers.Dropout(0.2),\n",
        "  tf.keras.layers.Dense(10)\n",
        "])\n",
        "predictions = model(x_train[:1]).numpy()\n",
        "predictions"
      ],
      "metadata": {
        "colab": {
          "base_uri": "https://localhost:8080/"
        },
        "id": "I2ECEWzjJM5a",
        "outputId": "9e8d62e9-cc02-47d6-b167-8da937a1044e"
      },
      "execution_count": 3,
      "outputs": [
        {
          "output_type": "execute_result",
          "data": {
            "text/plain": [
              "array([[-0.52586174,  0.02097104,  0.21846944, -0.06984836, -0.41912735,\n",
              "        -0.4027896 , -0.67178226,  0.25835475, -0.03882173, -0.29043782]],\n",
              "      dtype=float32)"
            ]
          },
          "metadata": {},
          "execution_count": 3
        }
      ]
    },
    {
      "cell_type": "code",
      "source": [
        "tf.nn.softmax(predictions).numpy()"
      ],
      "metadata": {
        "colab": {
          "base_uri": "https://localhost:8080/"
        },
        "id": "5M9cp6lOJYAQ",
        "outputId": "ee989e60-77e5-49fd-8ec1-a50d80c776d4"
      },
      "execution_count": 4,
      "outputs": [
        {
          "output_type": "execute_result",
          "data": {
            "text/plain": [
              "array([[0.06848361, 0.11832407, 0.14416027, 0.10805149, 0.07619752,\n",
              "        0.07745264, 0.05918534, 0.15002635, 0.11145651, 0.08666225]],\n",
              "      dtype=float32)"
            ]
          },
          "metadata": {},
          "execution_count": 4
        }
      ]
    },
    {
      "cell_type": "code",
      "source": [
        "loss_fn = tf.keras.losses.SparseCategoricalCrossentropy(from_logits=True)\n",
        "loss_fn(y_train[:1], predictions).numpy()"
      ],
      "metadata": {
        "colab": {
          "base_uri": "https://localhost:8080/"
        },
        "id": "oDzRNTK6JabA",
        "outputId": "6d720279-5e25-4779-ea0b-fc623aa3128a"
      },
      "execution_count": 7,
      "outputs": [
        {
          "output_type": "execute_result",
          "data": {
            "text/plain": [
              "2.5580888"
            ]
          },
          "metadata": {},
          "execution_count": 7
        }
      ]
    },
    {
      "cell_type": "code",
      "source": [
        "model.compile(optimizer='adam',\n",
        "              loss=loss_fn,\n",
        "              metrics=['accuracy'])\n",
        "model.fit(x_train, y_train, epochs=5)"
      ],
      "metadata": {
        "colab": {
          "base_uri": "https://localhost:8080/"
        },
        "id": "HzEU-VerJbGi",
        "outputId": "3c0f4e71-f85b-47b6-86f4-dc1a05c3745a"
      },
      "execution_count": 8,
      "outputs": [
        {
          "output_type": "stream",
          "name": "stdout",
          "text": [
            "Epoch 1/5\n",
            "1875/1875 [==============================] - 10s 5ms/step - loss: 0.2904 - accuracy: 0.9148\n",
            "Epoch 2/5\n",
            "1875/1875 [==============================] - 8s 4ms/step - loss: 0.1428 - accuracy: 0.9571\n",
            "Epoch 3/5\n",
            "1875/1875 [==============================] - 9s 5ms/step - loss: 0.1069 - accuracy: 0.9675\n",
            "Epoch 4/5\n",
            "1875/1875 [==============================] - 12s 6ms/step - loss: 0.0881 - accuracy: 0.9731\n",
            "Epoch 5/5\n",
            "1875/1875 [==============================] - 18s 10ms/step - loss: 0.0734 - accuracy: 0.9768\n"
          ]
        },
        {
          "output_type": "execute_result",
          "data": {
            "text/plain": [
              "<keras.src.callbacks.History at 0x7ab684f18a60>"
            ]
          },
          "metadata": {},
          "execution_count": 8
        }
      ]
    },
    {
      "cell_type": "code",
      "source": [
        "model.evaluate(x_test,  y_test, verbose=2)"
      ],
      "metadata": {
        "colab": {
          "base_uri": "https://localhost:8080/"
        },
        "id": "CUu79zB8JdYb",
        "outputId": "dba8e125-d5e9-4b51-b037-4060b1a85762"
      },
      "execution_count": 9,
      "outputs": [
        {
          "output_type": "stream",
          "name": "stdout",
          "text": [
            "313/313 - 1s - loss: 0.0756 - accuracy: 0.9769 - 1s/epoch - 4ms/step\n"
          ]
        },
        {
          "output_type": "execute_result",
          "data": {
            "text/plain": [
              "[0.07562943547964096, 0.9768999814987183]"
            ]
          },
          "metadata": {},
          "execution_count": 9
        }
      ]
    },
    {
      "cell_type": "code",
      "source": [
        "probability_model = tf.keras.Sequential([\n",
        "  model,\n",
        "  tf.keras.layers.Softmax()\n",
        "])\n",
        "probability_model(x_test[:5])"
      ],
      "metadata": {
        "colab": {
          "base_uri": "https://localhost:8080/"
        },
        "id": "p2l3lVoGJp28",
        "outputId": "4553093c-fe41-4bbb-91f4-9e27ec0e3d6c"
      },
      "execution_count": 10,
      "outputs": [
        {
          "output_type": "execute_result",
          "data": {
            "text/plain": [
              "<tf.Tensor: shape=(5, 10), dtype=float32, numpy=\n",
              "array([[3.26463767e-09, 1.57563140e-09, 7.85589691e-07, 8.23948903e-06,\n",
              "        8.72112224e-13, 1.70953047e-08, 1.62499745e-15, 9.99990702e-01,\n",
              "        1.09653735e-08, 2.43347415e-07],\n",
              "       [6.82139137e-11, 7.30228567e-05, 9.99925852e-01, 1.08728432e-06,\n",
              "        1.53600846e-13, 2.88225444e-08, 2.16631380e-09, 8.76614218e-15,\n",
              "        1.77745392e-08, 9.76353279e-15],\n",
              "       [8.35810738e-07, 9.99267757e-01, 2.33761777e-04, 6.36908007e-05,\n",
              "        3.83359729e-05, 7.15984606e-06, 3.28955794e-05, 8.83927787e-05,\n",
              "        2.63206428e-04, 3.99021110e-06],\n",
              "       [9.99593437e-01, 2.34235098e-09, 1.26528721e-05, 1.10850840e-06,\n",
              "        5.79326024e-06, 7.01338593e-07, 3.64831445e-04, 1.38051455e-05,\n",
              "        9.86112454e-08, 7.47646527e-06],\n",
              "       [2.77469530e-06, 9.30596666e-09, 7.37328264e-07, 1.24100081e-08,\n",
              "        9.93946254e-01, 1.72295745e-06, 1.15300918e-05, 8.66098999e-05,\n",
              "        4.85258170e-07, 5.94988652e-03]], dtype=float32)>"
            ]
          },
          "metadata": {},
          "execution_count": 10
        }
      ]
    }
  ]
}