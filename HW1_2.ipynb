{
  "nbformat": 4,
  "nbformat_minor": 0,
  "metadata": {
    "colab": {
      "provenance": [],
      "authorship_tag": "ABX9TyPEfctOIotW1CP+dzuZc+eh",
      "include_colab_link": true
    },
    "kernelspec": {
      "name": "python3",
      "display_name": "Python 3"
    },
    "language_info": {
      "name": "python"
    }
  },
  "cells": [
    {
      "cell_type": "markdown",
      "metadata": {
        "id": "view-in-github",
        "colab_type": "text"
      },
      "source": [
        "<a href=\"https://colab.research.google.com/github/isahaasasu/MAT422/blob/main/HW1_2.ipynb\" target=\"_parent\"><img src=\"https://colab.research.google.com/assets/colab-badge.svg\" alt=\"Open In Colab\"/></a>"
      ]
    },
    {
      "cell_type": "markdown",
      "source": [
        "# **Homework 1.2**"
      ],
      "metadata": {
        "id": "ifBkZTRmTVIx"
      }
    },
    {
      "cell_type": "markdown",
      "source": [
        "## NumPy Arrays"
      ],
      "metadata": {
        "id": "k_1T5rkxbxIi"
      }
    },
    {
      "cell_type": "code",
      "source": [
        "import numpy as np\n",
        "a = np.array([1,3,5] ) # 1D NumPy array\n",
        "print(a)\n",
        "b = np.arange(1,10) # 1D NumPy array from 1-10\n",
        "print(b)\n",
        "c = np.random.rand(3) # 1D NumPy array with three randomly generated numbers\n",
        "print(c)\n",
        "d = np.zeros(10) # 1D array of zeros\n",
        "print(d)\n",
        "e = np.ones(10) # 1D array of 1's\n",
        "print(e)\n",
        "f = np.zeros(10) + 5 # 1D array of 0+5\n",
        "print(f)"
      ],
      "metadata": {
        "colab": {
          "base_uri": "https://localhost:8080/"
        },
        "id": "BGdwDQwmTdOh",
        "outputId": "bcec54f6-e45a-4fc2-b971-8983db2c139a"
      },
      "execution_count": null,
      "outputs": [
        {
          "output_type": "stream",
          "name": "stdout",
          "text": [
            "[1 3 5]\n",
            "[1 2 3 4 5 6 7 8 9]\n",
            "[0.42841817 0.75279568 0.20545649]\n",
            "[0. 0. 0. 0. 0. 0. 0. 0. 0. 0.]\n",
            "[1. 1. 1. 1. 1. 1. 1. 1. 1. 1.]\n",
            "[5. 5. 5. 5. 5. 5. 5. 5. 5. 5.]\n"
          ]
        }
      ]
    },
    {
      "cell_type": "code",
      "source": [
        "# index\n",
        "a = np.arange(10)\n",
        "print(a)\n",
        "print(a[-2])\n",
        "print(a[1:5])\n",
        "print(a[1:7:2])"
      ],
      "metadata": {
        "colab": {
          "base_uri": "https://localhost:8080/"
        },
        "id": "i9M0MVJ_EFNQ",
        "outputId": "718f6ec8-ad43-4905-f674-47a3845c2332"
      },
      "execution_count": null,
      "outputs": [
        {
          "output_type": "stream",
          "name": "stdout",
          "text": [
            "[0 1 2 3 4 5 6 7 8 9]\n",
            "8\n",
            "[1 2 3 4]\n",
            "[1 3 5]\n"
          ]
        }
      ]
    },
    {
      "cell_type": "code",
      "source": [
        "a = np.array([[3,4],[2,6],[8,5]]) # 2D NumPy array (matrix)\n",
        "print(a, '\\n')\n",
        "print('Dimensions:', a.ndim) # Dimensions of matrix a\n",
        "print('Shape:', a.shape) # Shape of matrix a\n",
        "print('Size:', a.size) # Size of matrix a\n",
        "print('len =',len(a)) # Length of matrix a\n",
        "col = a[:,0] # First column of matrix a\n",
        "print(col)"
      ],
      "metadata": {
        "colab": {
          "base_uri": "https://localhost:8080/"
        },
        "id": "P9eIYjcwWeH5",
        "outputId": "44d95d02-6934-4242-82c7-ffe4ab3028a7"
      },
      "execution_count": null,
      "outputs": [
        {
          "output_type": "stream",
          "name": "stdout",
          "text": [
            "[[3 4]\n",
            " [2 6]\n",
            " [8 5]] \n",
            "\n",
            "Dimensions: 2\n",
            "Shape: (3, 2)\n",
            "Size: 6\n",
            "len = 3\n",
            "[3 2 8]\n"
          ]
        }
      ]
    },
    {
      "cell_type": "code",
      "source": [
        "a = np.zeros((5,2))\n",
        "x,y = a.shape # Picks two output values from a method\n",
        "print('x =', x)\n",
        "print('y =', y)"
      ],
      "metadata": {
        "colab": {
          "base_uri": "https://localhost:8080/"
        },
        "id": "S8FfSv6XE50J",
        "outputId": "d5c3321d-17b5-4c9b-cdae-ae82439a17a2"
      },
      "execution_count": null,
      "outputs": [
        {
          "output_type": "stream",
          "name": "stdout",
          "text": [
            "x = 5\n",
            "y = 2\n"
          ]
        }
      ]
    },
    {
      "cell_type": "code",
      "source": [
        "# Generate constant arrays\n",
        "\n",
        "a = np.zeros((2,4)) + 4\n",
        "print(a, '\\n')\n",
        "\n",
        "b = np.ones((2,4)) * 4\n",
        "print(b, '\\n')\n",
        "\n",
        "c = np.full((2,4), 4)\n",
        "print(c)"
      ],
      "metadata": {
        "colab": {
          "base_uri": "https://localhost:8080/"
        },
        "id": "IIfrBQbEFUWT",
        "outputId": "fcc7e1fa-29fc-4d81-a4f6-06a73d24aaf3"
      },
      "execution_count": null,
      "outputs": [
        {
          "output_type": "stream",
          "name": "stdout",
          "text": [
            "[[4. 4. 4. 4.]\n",
            " [4. 4. 4. 4.]] \n",
            "\n",
            "[[4. 4. 4. 4.]\n",
            " [4. 4. 4. 4.]] \n",
            "\n",
            "[[4 4 4 4]\n",
            " [4 4 4 4]]\n"
          ]
        }
      ]
    },
    {
      "cell_type": "code",
      "source": [
        "a = np.eye(3) # Identity matrix function eye()\n",
        "print(a)"
      ],
      "metadata": {
        "colab": {
          "base_uri": "https://localhost:8080/"
        },
        "id": "UKCfn7fzFg2L",
        "outputId": "c2b12681-617c-451e-a1b4-878736fa5d14"
      },
      "execution_count": null,
      "outputs": [
        {
          "output_type": "stream",
          "name": "stdout",
          "text": [
            "[[1. 0. 0.]\n",
            " [0. 1. 0.]\n",
            " [0. 0. 1.]]\n"
          ]
        }
      ]
    },
    {
      "cell_type": "code",
      "source": [
        "a = np.arange(8)\n",
        "print(a, '\\n')\n",
        "b = a.reshape(4,2) # Reshapes 1D array a to matrix with 4 rows and 2 columns\n",
        "print(b, '\\n')\n",
        "c = b[:3, 0:2] # Splice index\n",
        "print(c)"
      ],
      "metadata": {
        "colab": {
          "base_uri": "https://localhost:8080/"
        },
        "id": "7JrPakVAYQj9",
        "outputId": "5b9dea4a-1223-4e03-f526-9272095939e5"
      },
      "execution_count": null,
      "outputs": [
        {
          "output_type": "stream",
          "name": "stdout",
          "text": [
            "[0 1 2 3 4 5 6 7] \n",
            "\n",
            "[[0 1]\n",
            " [2 3]\n",
            " [4 5]\n",
            " [6 7]] \n",
            "\n",
            "[[0 1]\n",
            " [2 3]\n",
            " [4 5]]\n"
          ]
        }
      ]
    },
    {
      "cell_type": "code",
      "source": [
        "a = np.zeros((3,3))\n",
        "for i in range(3):\n",
        "    a[:,i] = i\n",
        "print('before\\n',a, '\\n')\n",
        "\n",
        "a[1,:] += 5 # Update values\n",
        "print('after\\n',a, '\\n')\n",
        "\n",
        "a[:,2] = 10. # Update values\n",
        "print('after\\n',a)"
      ],
      "metadata": {
        "colab": {
          "base_uri": "https://localhost:8080/"
        },
        "id": "FcphX2NvHNmX",
        "outputId": "b5012c60-2241-465e-bff0-18c899d0326a"
      },
      "execution_count": null,
      "outputs": [
        {
          "output_type": "stream",
          "name": "stdout",
          "text": [
            "before\n",
            " [[0. 1. 2.]\n",
            " [0. 1. 2.]\n",
            " [0. 1. 2.]] \n",
            "\n",
            "after\n",
            " [[0. 1. 2.]\n",
            " [5. 6. 7.]\n",
            " [0. 1. 2.]] \n",
            "\n",
            "after\n",
            " [[ 0.  1. 10.]\n",
            " [ 5.  6. 10.]\n",
            " [ 0.  1. 10.]]\n"
          ]
        }
      ]
    },
    {
      "cell_type": "code",
      "source": [
        "a = np.array(([3,1],[1,3]))\n",
        "print(a)\n",
        "print('Type of data in array a:', a.dtype, '\\n')\n",
        "\n",
        "b = np.array(([3.,1],[1,3]))\n",
        "print(b)\n",
        "print('Type of data in array b:', b.dtype, '\\n')\n",
        "\n",
        "c = np.array(([3.,1],[1,3]))>2\n",
        "print(c)\n",
        "print('Type of data in array c:', c.dtype, '\\n')\n",
        "\n",
        "\n",
        "d = np.array((['3','1'],['1','3']))\n",
        "print(d)\n",
        "print('Type of data in array d:', d.dtype, '\\n')\n",
        "\n",
        "e = np.array((['3','1'],['1','3']),dtype=float)\n",
        "print(a)\n",
        "print('Type of data in array e:', e.dtype)"
      ],
      "metadata": {
        "colab": {
          "base_uri": "https://localhost:8080/"
        },
        "id": "eToHm6X2H7ru",
        "outputId": "d309ca8d-8056-4605-acf0-4e2f2de276b3"
      },
      "execution_count": null,
      "outputs": [
        {
          "output_type": "stream",
          "name": "stdout",
          "text": [
            "[[3 1]\n",
            " [1 3]]\n",
            "Type of data in array a: int64 \n",
            "\n",
            "[[3. 1.]\n",
            " [1. 3.]]\n",
            "Type of data in array b: float64 \n",
            "\n",
            "[[ True False]\n",
            " [False  True]]\n",
            "Type of data in array c: bool \n",
            "\n",
            "[['3' '1']\n",
            " ['1' '3']]\n",
            "Type of data in array d: <U1 \n",
            "\n",
            "[[3 1]\n",
            " [1 3]]\n",
            "Type of data in array e: float64\n"
          ]
        }
      ]
    },
    {
      "cell_type": "code",
      "source": [
        "# transpose\n",
        "a = np.array(([6,2], [4,7],[ 1,8]))\n",
        "print('a:\\n',a)\n",
        "print('a.T:\\n',a.T)\n",
        "print('a.transpose():\\n',a.transpose())"
      ],
      "metadata": {
        "colab": {
          "base_uri": "https://localhost:8080/"
        },
        "id": "A4fH89S33HJL",
        "outputId": "fcd2e76e-caaa-4ac6-f59b-08807648f683"
      },
      "execution_count": null,
      "outputs": [
        {
          "output_type": "stream",
          "name": "stdout",
          "text": [
            "a:\n",
            " [[6 2]\n",
            " [4 7]\n",
            " [1 8]]\n",
            "a.T:\n",
            " [[6 4 1]\n",
            " [2 7 8]]\n",
            "a.transpose():\n",
            " [[6 4 1]\n",
            " [2 7 8]]\n"
          ]
        }
      ]
    },
    {
      "cell_type": "code",
      "source": [
        "# reshape\n",
        "a = np.array(([6,2], [4,7],[ 1,8]))\n",
        "print('Array a\\n', a)\n",
        "\n",
        "b = a.reshape((2,3))\n",
        "print('Array b\\n', b)\n",
        "\n",
        "c = a.flatten()\n",
        "print('Array c\\n', c)\n",
        "\n",
        "# C order, row order\n",
        "d = a.flatten(order = 'C')\n",
        "print('Array d\\n', d)\n",
        "\n",
        "# Fortran order, column order\n",
        "e = a.flatten(order = 'F')\n",
        "print('Array e\\n', e)"
      ],
      "metadata": {
        "colab": {
          "base_uri": "https://localhost:8080/"
        },
        "id": "z_x4s1KV3Y5q",
        "outputId": "2b605265-0de4-4df4-af4a-8d2da5335f7d"
      },
      "execution_count": null,
      "outputs": [
        {
          "output_type": "stream",
          "name": "stdout",
          "text": [
            "Array a\n",
            " [[6 2]\n",
            " [4 7]\n",
            " [1 8]]\n",
            "Array b\n",
            " [[6 2 4]\n",
            " [7 1 8]]\n",
            "Array c\n",
            " [6 2 4 7 1 8]\n",
            "Array d\n",
            " [6 2 4 7 1 8]\n",
            "Array e\n",
            " [6 4 1 2 7 8]\n"
          ]
        }
      ]
    },
    {
      "cell_type": "code",
      "source": [
        "# stacking\n",
        "a=np.full((3,2),4.)\n",
        "b=np.full((3,2),2.)\n",
        "c=np.full((3,2),1.)\n",
        "\n",
        "print('a=',a)\n",
        "print('b=',b)\n",
        "print('c=',c)\n",
        "\n",
        "print('hstack=',np.hstack((a,b,c)))\n",
        "print('vstack=',np.vstack((a,b,c)))"
      ],
      "metadata": {
        "colab": {
          "base_uri": "https://localhost:8080/"
        },
        "id": "dQRoo50B3mUv",
        "outputId": "ee29ee2b-c612-46e1-86a9-47acbbda8036"
      },
      "execution_count": null,
      "outputs": [
        {
          "output_type": "stream",
          "name": "stdout",
          "text": [
            "a= [[4. 4.]\n",
            " [4. 4.]\n",
            " [4. 4.]]\n",
            "b= [[2. 2.]\n",
            " [2. 2.]\n",
            " [2. 2.]]\n",
            "c= [[1. 1.]\n",
            " [1. 1.]\n",
            " [1. 1.]]\n",
            "hstack= [[4. 4. 2. 2. 1. 1.]\n",
            " [4. 4. 2. 2. 1. 1.]\n",
            " [4. 4. 2. 2. 1. 1.]]\n",
            "vstack= [[4. 4.]\n",
            " [4. 4.]\n",
            " [4. 4.]\n",
            " [2. 2.]\n",
            " [2. 2.]\n",
            " [2. 2.]\n",
            " [1. 1.]\n",
            " [1. 1.]\n",
            " [1. 1.]]\n"
          ]
        }
      ]
    },
    {
      "cell_type": "markdown",
      "source": [
        "## Elementwise calculation using array"
      ],
      "metadata": {
        "id": "x7e6zVZHL0Lm"
      }
    },
    {
      "cell_type": "code",
      "source": [
        "# Most numpy functions can be applied directly to an array\n",
        "a = np.zeros((4,4))\n",
        "for i in range(4):\n",
        "    a[:,i] = i\n",
        "print(a)\n",
        "print(a >= 1)\n",
        "print(np.sqrt(a))"
      ],
      "metadata": {
        "colab": {
          "base_uri": "https://localhost:8080/"
        },
        "id": "tOXH9r3gL8zg",
        "outputId": "592c64dd-dbbc-4e55-9933-e7422181d05d"
      },
      "execution_count": null,
      "outputs": [
        {
          "output_type": "stream",
          "name": "stdout",
          "text": [
            "[[0. 1. 2. 3.]\n",
            " [0. 1. 2. 3.]\n",
            " [0. 1. 2. 3.]\n",
            " [0. 1. 2. 3.]]\n",
            "[[False  True  True  True]\n",
            " [False  True  True  True]\n",
            " [False  True  True  True]\n",
            " [False  True  True  True]]\n",
            "[[0.         1.         1.41421356 1.73205081]\n",
            " [0.         1.         1.41421356 1.73205081]\n",
            " [0.         1.         1.41421356 1.73205081]\n",
            " [0.         1.         1.41421356 1.73205081]]\n"
          ]
        }
      ]
    },
    {
      "cell_type": "code",
      "source": [
        "# Inversion\n",
        "a = np.matrix([[1,0,0],\n",
        "               [0,1,0],\n",
        "               [0,0,1]])\n",
        "\n",
        "b = np.matrix([[2,4],\n",
        "               [4,2]])\n",
        "\n",
        "print('Matrix a \\n', a)\n",
        "print(np.trace(a))\n",
        "print(np.invert(a), '\\n')\n",
        "\n",
        "print('Matrix b \\n', b)\n",
        "print(np.trace(b))\n",
        "print(np.invert(b))"
      ],
      "metadata": {
        "colab": {
          "base_uri": "https://localhost:8080/"
        },
        "id": "kDW2pgQ9MMkk",
        "outputId": "04241c58-5a00-4a3f-e075-7db268d0be22"
      },
      "execution_count": null,
      "outputs": [
        {
          "output_type": "stream",
          "name": "stdout",
          "text": [
            "Matrix a \n",
            " [[1 0 0]\n",
            " [0 1 0]\n",
            " [0 0 1]]\n",
            "3\n",
            "[[-2 -1 -1]\n",
            " [-1 -2 -1]\n",
            " [-1 -1 -2]] \n",
            "\n",
            "Matrix b \n",
            " [[2 4]\n",
            " [4 2]]\n",
            "4\n",
            "[[-3 -5]\n",
            " [-5 -3]]\n"
          ]
        }
      ]
    },
    {
      "cell_type": "markdown",
      "source": [
        "## Two arrays"
      ],
      "metadata": {
        "id": "onrhcEgLRqb-"
      }
    },
    {
      "cell_type": "code",
      "source": [
        "# two arrays\n",
        "a = np.zeros((4,4))\n",
        "b = np.zeros((4,4))\n",
        "for i in range(4):\n",
        "    a[:,i] = i\n",
        "    b[i,:] = i\n",
        "print('Matrix a: \\n', a, '\\n')\n",
        "print('Matrix b: \\n', b, '\\n')\n",
        "\n",
        "print('a+b: \\n', a + b, '\\n')\n",
        "print('a*b: \\n', a * b, '\\n')\n",
        "print('a/b: \\n', a / b, '\\n') # first row of the result includes 'nan' and 'inf' because dividing by zero"
      ],
      "metadata": {
        "colab": {
          "base_uri": "https://localhost:8080/"
        },
        "id": "J9b27bQ4RpcN",
        "outputId": "c6e77e7e-975e-4183-c412-a8fd2f0b983f"
      },
      "execution_count": null,
      "outputs": [
        {
          "output_type": "stream",
          "name": "stdout",
          "text": [
            "Matrix a: \n",
            " [[0. 1. 2. 3.]\n",
            " [0. 1. 2. 3.]\n",
            " [0. 1. 2. 3.]\n",
            " [0. 1. 2. 3.]] \n",
            "\n",
            "Matrix b: \n",
            " [[0. 0. 0. 0.]\n",
            " [1. 1. 1. 1.]\n",
            " [2. 2. 2. 2.]\n",
            " [3. 3. 3. 3.]] \n",
            "\n",
            "a+b: \n",
            " [[0. 1. 2. 3.]\n",
            " [1. 2. 3. 4.]\n",
            " [2. 3. 4. 5.]\n",
            " [3. 4. 5. 6.]] \n",
            "\n",
            "a*b: \n",
            " [[0. 0. 0. 0.]\n",
            " [0. 1. 2. 3.]\n",
            " [0. 2. 4. 6.]\n",
            " [0. 3. 6. 9.]] \n",
            "\n",
            "a/b: \n",
            " [[       nan        inf        inf        inf]\n",
            " [0.         1.         2.         3.        ]\n",
            " [0.         0.5        1.         1.5       ]\n",
            " [0.         0.33333333 0.66666667 1.        ]] \n",
            "\n"
          ]
        },
        {
          "output_type": "stream",
          "name": "stderr",
          "text": [
            "<ipython-input-46-74a13b75dc74>:12: RuntimeWarning: divide by zero encountered in divide\n",
            "  print('a/b: \\n', a / b, '\\n') # first row of the result includes 'nan' and 'inf' because dividing by zero\n",
            "<ipython-input-46-74a13b75dc74>:12: RuntimeWarning: invalid value encountered in divide\n",
            "  print('a/b: \\n', a / b, '\\n') # first row of the result includes 'nan' and 'inf' because dividing by zero\n"
          ]
        }
      ]
    },
    {
      "cell_type": "code",
      "source": [
        "# broadcasting\n",
        "a = np.array([[1,2,3], [4,5,6], [7,8,9], [10, 11, 12]])\n",
        "b = np.array([0, 1, 2])\n",
        "x = a + b # add the vector b to each row of the matrix a\n",
        "y = a * b\n",
        "print(x, '\\n')\n",
        "print(y)"
      ],
      "metadata": {
        "colab": {
          "base_uri": "https://localhost:8080/"
        },
        "id": "yd4kJlIpSfX4",
        "outputId": "04c5e95f-2b87-454e-cb49-51a7ea5e294d"
      },
      "execution_count": null,
      "outputs": [
        {
          "output_type": "stream",
          "name": "stdout",
          "text": [
            "[[ 1  3  5]\n",
            " [ 4  6  8]\n",
            " [ 7  9 11]\n",
            " [10 12 14]] \n",
            "\n",
            "[[ 0  2  6]\n",
            " [ 0  5 12]\n",
            " [ 0  8 18]\n",
            " [ 0 11 24]]\n"
          ]
        }
      ]
    },
    {
      "cell_type": "code",
      "source": [
        "# Dot product\n",
        "x = np.array([1,2,3,4,5])\n",
        "y = np.array([5,4,3,4,5])\n",
        "z = np.dot(x,y)  # The dot product of two vectors\n",
        "print('Dot product of vectors x and y:', z, '\\n')\n",
        "\n",
        "x = np.array([[1,2,3],[2,3,4],[3,4,5]])\n",
        "y = np.array([[5,4,3],[4,3,2],[3,2,1]])\n",
        "z= np.dot(x,y)   #  Matrix multiplication\n",
        "print('Matrix multiplication: \\n', z)"
      ],
      "metadata": {
        "colab": {
          "base_uri": "https://localhost:8080/"
        },
        "id": "Wy4ksLuxTEYb",
        "outputId": "d6ad7ca4-f93e-4df0-bb13-09ab4817e3cc"
      },
      "execution_count": null,
      "outputs": [
        {
          "output_type": "stream",
          "name": "stdout",
          "text": [
            "Dot product of vectors x and y: 63 \n",
            "\n",
            "Matrix multiplication: \n",
            " [[22 16 10]\n",
            " [34 25 16]\n",
            " [46 34 22]]\n"
          ]
        }
      ]
    },
    {
      "cell_type": "code",
      "source": [
        "a = np.array([4,2])\n",
        "b = np.array([3,6])\n",
        "c = np.array([[2],[4]])\n",
        "\n",
        "print(b*a)\n",
        "print(a*c)  # A matrix multiplies its elements, so it satisfies the commutative law\n",
        "print(c*a)\n",
        "\n",
        "print(np.dot(a,b))    # Matrix multiplication\n",
        "print(np.dot(a,c))\n",
        "#print(np.dot(c,a)) There will be an error"
      ],
      "metadata": {
        "colab": {
          "base_uri": "https://localhost:8080/"
        },
        "id": "XLFBAw-nUkJ9",
        "outputId": "8eb5cb0d-ea79-492e-b0f2-6d7dce09152e"
      },
      "execution_count": null,
      "outputs": [
        {
          "output_type": "stream",
          "name": "stdout",
          "text": [
            "[12 12]\n",
            "[[ 8  4]\n",
            " [16  8]]\n",
            "[[ 8  4]\n",
            " [16  8]]\n",
            "24\n",
            "[16]\n"
          ]
        }
      ]
    },
    {
      "cell_type": "code",
      "source": [
        "a = [3,4,5]\n",
        "b = [3,2,1]\n",
        "\n",
        "c = np.cross(a,b) # Cross product\n",
        "print(c)"
      ],
      "metadata": {
        "colab": {
          "base_uri": "https://localhost:8080/"
        },
        "id": "DomU6r2-UvWj",
        "outputId": "96a86e29-fb83-45c6-a66f-3bdd2c40b6d3"
      },
      "execution_count": null,
      "outputs": [
        {
          "output_type": "stream",
          "name": "stdout",
          "text": [
            "[-6 12 -6]\n"
          ]
        }
      ]
    },
    {
      "cell_type": "code",
      "source": [
        "# matrix multiplication\n",
        "a = np.array([[3,4], [2,5]])\n",
        "b = np.array([[1,5], [2,3]])\n",
        "\n",
        "c = np.matmul(a,b)\n",
        "print(c)"
      ],
      "metadata": {
        "colab": {
          "base_uri": "https://localhost:8080/"
        },
        "id": "8qtnIw-BU5EZ",
        "outputId": "39402ede-99dd-464f-e2bf-65d2ee82e3d2"
      },
      "execution_count": null,
      "outputs": [
        {
          "output_type": "stream",
          "name": "stdout",
          "text": [
            "[[11 27]\n",
            " [12 25]]\n"
          ]
        }
      ]
    },
    {
      "cell_type": "markdown",
      "source": [
        "## Linear Spaces"
      ],
      "metadata": {
        "id": "zXi935rSbsyC"
      }
    },
    {
      "cell_type": "code",
      "source": [
        "x = np.array([1,3,5])\n",
        "y = np.array([2,3,4])\n",
        "z = np.array([2,4,6])\n",
        "print('Vectors x, y, z\\n', x,y,z, '\\n')\n",
        "\n",
        "sum = 2*x + 3*y + 2*z\n",
        "print('Linear combination of 2x + 3y + 2z:\\n', sum)"
      ],
      "metadata": {
        "colab": {
          "base_uri": "https://localhost:8080/"
        },
        "id": "vQ_phExDbunS",
        "outputId": "f3f3f701-de62-48e8-f749-730ae7751108"
      },
      "execution_count": null,
      "outputs": [
        {
          "output_type": "stream",
          "name": "stdout",
          "text": [
            "Vectors x, y, z\n",
            " [1 3 5] [2 3 4] [2 4 6] \n",
            "\n",
            "Linear combination of 2x + 3y + 2z:\n",
            " [12 23 34]\n"
          ]
        }
      ]
    },
    {
      "cell_type": "code",
      "source": [
        "x = np.array([1,0])\n",
        "y = np.array([0,1])\n",
        "print('Vector x is', x)\n",
        "print('Vector y is', y)\n",
        "\n",
        "print('Span of vectors x and y is R^2')\n",
        "print('Example: span of 5x + 8y is also R^2')\n",
        "sum = 5*x + 8*y\n",
        "print(sum)"
      ],
      "metadata": {
        "colab": {
          "base_uri": "https://localhost:8080/"
        },
        "id": "WvVgJolKgzUi",
        "outputId": "6657abf4-db79-4a16-9f8b-98d0ec84fe9d"
      },
      "execution_count": null,
      "outputs": [
        {
          "output_type": "stream",
          "name": "stdout",
          "text": [
            "Vector x is [1 0]\n",
            "Vector y is [0 1]\n",
            "Span of vectors x and y is R^2\n",
            "Example: span of 5x + 8y is also R^2\n",
            "[5 8]\n"
          ]
        }
      ]
    },
    {
      "cell_type": "code",
      "source": [
        "print('Linear Dependent vectors are multiples of each other')\n",
        "import matplotlib.pyplot as plt\n",
        "a = np.array([3,4])\n",
        "b = np.array([6,8])\n",
        "print('Vector a is', a)\n",
        "print('Vector b is', b)\n",
        "\n",
        "print('Since vector b is 2a, vectors a and b are linearly dependent')\n",
        "b = 2*a\n",
        "print(b)\n",
        "\n",
        "V = np.array([a, b])\n",
        "origin = np.array([[0, 0],[0, 0]]) # origin point\n",
        "\n",
        "plt.quiver(*origin, V[:,0], V[:,1], color=['r','b'], scale=25)\n",
        "plt.show()"
      ],
      "metadata": {
        "colab": {
          "base_uri": "https://localhost:8080/",
          "height": 519
        },
        "id": "Q-m0103jiBOU",
        "outputId": "02ecfec1-9522-4350-9dc8-065794d3a867"
      },
      "execution_count": null,
      "outputs": [
        {
          "output_type": "stream",
          "name": "stdout",
          "text": [
            "Linear Dependent vectors are multiples of each other\n",
            "Vector a is [3 4]\n",
            "Vector b is [6 8]\n",
            "Since vector b is 2a, vectors a and b are linearly dependent\n",
            "[6 8]\n"
          ]
        },
        {
          "output_type": "display_data",
          "data": {
            "text/plain": [
              "<Figure size 640x480 with 1 Axes>"
            ],
            "image/png": "[encoded data removed]"
          },
          "metadata": {}
        }
      ]
    },
    {
      "cell_type": "code",
      "source": [
        "print('Linear Independent vectors cannot be multiples of each other')\n",
        "a = np.array([5,6])\n",
        "b = np.array([2,-3])\n",
        "print (a, b)\n",
        "\n",
        "V = np.array([a,b])\n",
        "origin = np.array([[0, 0],[0, 0]]) # origin point\n",
        "\n",
        "plt.quiver(*origin, V[:,0], V[:,1], color=['r','b'], scale=20)\n",
        "plt.show()"
      ],
      "metadata": {
        "colab": {
          "base_uri": "https://localhost:8080/",
          "height": 466
        },
        "id": "wUFES59vigXM",
        "outputId": "9ef47f2a-8579-4c07-9511-c3a69ca68f33"
      },
      "execution_count": null,
      "outputs": [
        {
          "output_type": "stream",
          "name": "stdout",
          "text": [
            "Linear Independent vectors cannot be multiples of each other\n",
            "[5 6] [ 2 -3]\n"
          ]
        },
        {
          "output_type": "display_data",
          "data": {
            "text/plain": [
              "<Figure size 640x480 with 1 Axes>"
            ],
            "image/png": "[encoded data removed]"
          },
          "metadata": {}
        }
      ]
    },
    {
      "cell_type": "code",
      "source": [
        "# Solving polynomials\n",
        "print(\"The system of equations are:\")\n",
        "print('x + 2y = 4')\n",
        "print ('and')\n",
        "print('3x − 5y = 1')\n",
        "\n",
        "a = np.array([[1, 2], [3, -5]])\n",
        "b = np.array([4,1])\n",
        "x = np.linalg.solve(a, b)\n",
        "\n",
        "print(\"The solution to the linear equation using matrix method is :\", x)\n",
        "\n",
        "name = ['X1', 'X2']\n",
        "for i in range(len(name)):\n",
        "    print(name[i] + '=' + str(x[i]))"
      ],
      "metadata": {
        "colab": {
          "base_uri": "https://localhost:8080/"
        },
        "id": "ey5hfe-34Dp6",
        "outputId": "6ea31fd1-37a6-46a3-f1de-43c935390baa"
      },
      "execution_count": null,
      "outputs": [
        {
          "output_type": "stream",
          "name": "stdout",
          "text": [
            "The system of equations are:\n",
            "x + 2y = 4\n",
            "and\n",
            "3x − 5y = 1\n",
            "The solution to the linear equation using matrix method is : [2. 1.]\n",
            "X1=2.0\n",
            "X2=1.0\n"
          ]
        }
      ]
    },
    {
      "cell_type": "code",
      "source": [
        "mat = np.vstack([[3,4,5],[1,-8,3],[4,5,0]])\n",
        "sol = np.vstack([1,2,3])\n",
        "try:\n",
        "    npl.solve(mat,sol)\n",
        "except:\n",
        "    print(np.hstack([mat,sol]))\n",
        "    print('Not solveable. Adding rows 1 and 2 contradicts row 3.')"
      ],
      "metadata": {
        "colab": {
          "base_uri": "https://localhost:8080/"
        },
        "id": "rRk2iOloar6t",
        "outputId": "cd04512c-16d5-411e-95c6-73eb882c81b7"
      },
      "execution_count": null,
      "outputs": [
        {
          "output_type": "stream",
          "name": "stdout",
          "text": [
            "[[ 3  4  5  1]\n",
            " [ 1 -8  3  2]\n",
            " [ 4  5  0  3]]\n",
            "Not solveable. Adding rows 1 and 2 contradicts row 3.\n"
          ]
        }
      ]
    },
    {
      "cell_type": "markdown",
      "source": [
        "## Orthogonality"
      ],
      "metadata": {
        "id": "929OLTfZjE-N"
      }
    },
    {
      "cell_type": "code",
      "source": [
        "print('Two vectors are orthogonal if they are perpendicular to each other')\n",
        "a = np.array([1,0,0])\n",
        "b = np.array([0,0,1])\n",
        "print('Vector a is', a)\n",
        "print('Vector b is', b)\n",
        "\n",
        "print('If vectors are orthogonal, their dot product will equal zero')\n",
        "dotprod = np.dot(a,b)\n",
        "print('The dot product of vectors a and b is', dotprod)"
      ],
      "metadata": {
        "colab": {
          "base_uri": "https://localhost:8080/"
        },
        "id": "P1_HvgbwjGed",
        "outputId": "aaa03823-35ef-440b-a533-c519bc48bd5b"
      },
      "execution_count": null,
      "outputs": [
        {
          "output_type": "stream",
          "name": "stdout",
          "text": [
            "Two vectors are orthogonal if they are perpendicular to each other\n",
            "Vector a is [1 0 0]\n",
            "Vector b is [0 0 1]\n",
            "If vectors are orthogonal, their dot product will equal zero\n",
            "The dot product of vectors a and b is 0\n"
          ]
        }
      ]
    },
    {
      "cell_type": "markdown",
      "source": [
        "## Gram-Schmidt Process\n",
        "\n",
        "This process is when vectors are turned into orthogonal vectors"
      ],
      "metadata": {
        "id": "08U8_k1_kKsp"
      }
    },
    {
      "cell_type": "code",
      "source": [
        "a = np.array([4])\n",
        "print(\"Vector a:\", a)\n",
        "print(\"Span of vector a is R^1\")\n",
        "print(\"Vector b is vector a divided by length of vector a\")\n",
        "b = a/np.linalg.norm(a)\n",
        "print(\"Vector b =\", b)\n",
        "print(\"Vector b is orthonormal\")"
      ],
      "metadata": {
        "colab": {
          "base_uri": "https://localhost:8080/"
        },
        "id": "gZsVxmUfkRRj",
        "outputId": "65ccb26f-f7a1-4288-f7af-bd6ec0534b19"
      },
      "execution_count": null,
      "outputs": [
        {
          "output_type": "stream",
          "name": "stdout",
          "text": [
            "Vector a: [4]\n",
            "Span of vector a is R^1\n",
            "Vector b is vector a divided by length of vector a\n",
            "Vector b = [1.]\n",
            "Vector b is orthonormal\n"
          ]
        }
      ]
    },
    {
      "cell_type": "markdown",
      "source": [
        "## Eigenvalues and Eigenvectors"
      ],
      "metadata": {
        "id": "INZjrFKVlTwm"
      }
    },
    {
      "cell_type": "code",
      "source": [
        "x = np.diag([3,6,9])\n",
        "print(np.linalg.eigvals(x)) # Calculate the eigenvalues of the square matrix\n",
        "\n",
        "a, b = np.linalg.eig(x) # Calculate the eigenvalues and eigenvectors of the square matrix\n",
        "print('eigenvalue：', a, '\\n')\n",
        "print('eigenvector：\\n', b, '\\n')\n",
        "\n",
        "\n",
        "# verify that the eigenvalues and eigenvectors are correct\n",
        "for i in range(3):\n",
        "    if np.allclose(a[i] * b[:, i], np.dot(x, b[:, i])):\n",
        "        print('Correct')\n",
        "    else:\n",
        "        print('Wrong')"
      ],
      "metadata": {
        "colab": {
          "base_uri": "https://localhost:8080/"
        },
        "id": "oKWwccI2NxLw",
        "outputId": "6b034ef0-0f89-44e0-e054-7753de459253"
      },
      "execution_count": null,
      "outputs": [
        {
          "output_type": "stream",
          "name": "stdout",
          "text": [
            "[3. 6. 9.]\n",
            "eigenvalue： [3. 6. 9.] \n",
            "\n",
            "eigenvector：\n",
            " [[1. 0. 0.]\n",
            " [0. 1. 0.]\n",
            " [0. 0. 1.]] \n",
            "\n",
            "Correct\n",
            "Correct\n",
            "Correct\n"
          ]
        }
      ]
    },
    {
      "cell_type": "code",
      "source": [
        "a = np.array(([0,-2],[-4,2]))\n",
        "b = np.array(([1],[1]))\n",
        "print(\"Vector a:\\n\", a, '\\n')\n",
        "print(\"Vector b:\\n\", b, '\\n')\n",
        "\n",
        "np.dot(a,b)\n",
        "print(\"Multiplication of a and b\")\n",
        "print(np.dot(a,b),\"= -2b\", '\\n')\n",
        "\n",
        "print(\"ab is a multiple of vector b\")\n",
        "print(\"Thus, vector b is an eigenvector of vector a\")\n",
        "print(\"The eigenvalue is -2\")"
      ],
      "metadata": {
        "colab": {
          "base_uri": "https://localhost:8080/"
        },
        "id": "tgcFNPEmlYEz",
        "outputId": "4d61c109-7a6d-489c-fe75-775beeb6ef16"
      },
      "execution_count": null,
      "outputs": [
        {
          "output_type": "stream",
          "name": "stdout",
          "text": [
            "Vector a:\n",
            " [[ 0 -2]\n",
            " [-4  2]] \n",
            "\n",
            "Vector b:\n",
            " [[1]\n",
            " [1]] \n",
            "\n",
            "Multiplication of a and b\n",
            "[[-2]\n",
            " [-2]] = -2b \n",
            "\n",
            "ab is a multiple of vector b\n",
            "Thus, vector b is an eigenvector of vector a\n",
            "The eigenvalue is -2\n"
          ]
        }
      ]
    },
    {
      "cell_type": "code",
      "source": [
        "#  Calculating the eigenvalues and eigenvectors for a square array with the eig function in numpy.linalg\n",
        "from numpy.linalg import eig\n",
        "\n",
        "a = np.array([[1, 4],\n",
        "              [3, 2]])\n",
        "w,v=eig(a)\n",
        "print('The eigenvalues of A are:\\n', w)\n",
        "print('The corresponding eigenvectors are:\\n', v)"
      ],
      "metadata": {
        "colab": {
          "base_uri": "https://localhost:8080/"
        },
        "id": "zDkFti4cdApW",
        "outputId": "ec9188ad-4c89-46f1-f130-868852826837"
      },
      "execution_count": null,
      "outputs": [
        {
          "output_type": "stream",
          "name": "stdout",
          "text": [
            "The eigenvalues of A are:\n",
            " [-2.  5.]\n",
            "The corresponding eigenvectors are:\n",
            " [[-0.8    -0.7071]\n",
            " [ 0.6    -0.7071]]\n"
          ]
        }
      ]
    },
    {
      "cell_type": "code",
      "source": [
        "# Determine whether all eigenvalues are positive\n",
        "a = np.arange(9).reshape(3,3)\n",
        "print(a)\n",
        "\n",
        "a = a + a.T  # Convert square matrices to symmetric matrices\n",
        "print(a)\n",
        "\n",
        "b = np.linalg.eigvals(a)\n",
        "print(b)\n",
        "\n",
        "if np.all(b>0):\n",
        "    print('Yes, all eigenvalues are positive')\n",
        "else:\n",
        "    print('No, not all eigenvalues are  positive')"
      ],
      "metadata": {
        "colab": {
          "base_uri": "https://localhost:8080/"
        },
        "id": "d8H4owNwbbqe",
        "outputId": "1b396c12-f928-44f2-813c-e4df23e5e066"
      },
      "execution_count": null,
      "outputs": [
        {
          "output_type": "stream",
          "name": "stdout",
          "text": [
            "[[0 1 2]\n",
            " [3 4 5]\n",
            " [6 7 8]]\n",
            "[[ 0  4  8]\n",
            " [ 4  8 12]\n",
            " [ 8 12 16]]\n",
            "[ 2.74919334e+01 -3.49193338e+00 -3.07615451e-15]\n",
            "No, not all eigenvalues are  positive\n"
          ]
        }
      ]
    },
    {
      "cell_type": "markdown",
      "source": [
        "## QR Decomposition"
      ],
      "metadata": {
        "id": "QPacYHsYcIo2"
      }
    },
    {
      "cell_type": "code",
      "source": [
        "def gram_schmidt(A):\n",
        "    \"\"\"Gram-schmidt Orthogonalization\"\"\"\n",
        "    Q=np.zeros_like(A)\n",
        "    cnt = 0\n",
        "    for a in A.T:\n",
        "        u = np.copy(a)\n",
        "        for i in range(0, cnt):\n",
        "            u -= np.dot(np.dot(Q[:, i].T, a), Q[:, i])\n",
        "        e = u / np.linalg.norm(u)  # normalization\n",
        "        Q[:, cnt] = e\n",
        "        cnt += 1\n",
        "    R = np.dot(Q.T, A)\n",
        "    return (Q, R)\n",
        "\n",
        "np.set_printoptions(precision=4, suppress=True)\n",
        "A = np.array([[3, 8, 1],[4, 7, -4],[2, 1, -4],[1, 0, 3]], dtype = float)\n",
        "\n",
        "(Q, R) = gram_schmidt(A)\n",
        "print(Q)\n",
        "print(R)\n",
        "print(np.dot(Q, R))"
      ],
      "metadata": {
        "colab": {
          "base_uri": "https://localhost:8080/"
        },
        "id": "8wpkMSgvcZ5T",
        "outputId": "2e60279b-9d38-4b8d-ba72-682c6a8a4f0d"
      },
      "execution_count": null,
      "outputs": [
        {
          "output_type": "stream",
          "name": "stdout",
          "text": [
            "[[ 0.5477  0.6343  0.2887]\n",
            " [ 0.7303 -0.0488 -0.2887]\n",
            " [ 0.3651 -0.6343 -0.2887]\n",
            " [ 0.1826 -0.4392  0.866 ]]\n",
            "[[ 5.4772  9.859  -3.2863]\n",
            " [ 0.      4.0988  2.0494]\n",
            " [-0.     -0.      5.1962]]\n",
            "[[ 3.  8.  1.]\n",
            " [ 4.  7. -4.]\n",
            " [ 2.  1. -4.]\n",
            " [ 1. -0.  3.]]\n"
          ]
        }
      ]
    },
    {
      "cell_type": "code",
      "source": [
        "def givens_rotation(A):\n",
        "    \"\"\"\"Givens Rotations\"\"\"\n",
        "    (r, c) = np.shape(A)\n",
        "    Q = np.identity(r)\n",
        "    R = np.copy(A)\n",
        "    (rows, cols) = np.tril_indices(r, -1, c)\n",
        "    for (row, col) in zip(rows, cols):\n",
        "        if R[row, col] != 0:\n",
        "            r_ = np.hypot(R[col, col], R[row, col])  # d\n",
        "            c = R[col, col]/r_\n",
        "            s = -R[row, col]/r_\n",
        "            G = np.identity(r)\n",
        "            G[[col, row], [col, row]] = c\n",
        "            G[row, col] = s\n",
        "            G[col, row] = -s\n",
        "            R = np.dot(G, R)   # R=G(n-1,n)*...*G(2n)*...*G(23,1n)*...*G(12)*A\n",
        "            Q = np.dot(Q, G.T)  # Q=G(n-1,n).T*...*G(2n).T*...*G(23,1n).T*...*G(12).T\n",
        "    return (Q, R)\n",
        "\n",
        "np.set_printoptions(precision=4, suppress=True)\n",
        "A = np.array([[3, 8, 1],[4, 7, -4],[2, 1, -4],[1, 0, 3]], dtype = float)\n",
        "\n",
        "(Q, R) = givens_rotation(A)\n",
        "print(Q)\n",
        "print(R)\n",
        "print (np.dot(Q, R))"
      ],
      "metadata": {
        "colab": {
          "base_uri": "https://localhost:8080/"
        },
        "id": "BjPPMB_VcSVR",
        "outputId": "62b8aa1c-c7e8-4cd0-9ac6-4435612cf1d5"
      },
      "execution_count": null,
      "outputs": [
        {
          "output_type": "stream",
          "name": "stdout",
          "text": [
            "[[ 0.5477  0.6343  0.2887  0.4629]\n",
            " [ 0.7303 -0.0488 -0.2887 -0.6172]\n",
            " [ 0.3651 -0.6343 -0.2887  0.6172]\n",
            " [ 0.1826 -0.4392  0.866  -0.1543]]\n",
            "[[ 5.4772  9.859  -3.2863]\n",
            " [ 0.      4.0988  2.0494]\n",
            " [ 0.      0.      5.1962]\n",
            " [ 0.      0.     -0.    ]]\n",
            "[[ 3.  8.  1.]\n",
            " [ 4.  7. -4.]\n",
            " [ 2.  1. -4.]\n",
            " [ 1.  0.  3.]]\n"
          ]
        }
      ]
    },
    {
      "cell_type": "code",
      "source": [
        "def householder_reflection(A):\n",
        "    \"\"\"Householder Triangularization\"\"\"\n",
        "    (r, c) = np.shape(A)\n",
        "    Q = np.identity(r)\n",
        "    R = np.copy(A)\n",
        "    for cnt in range(r - 1):\n",
        "        x = R[cnt:, cnt]\n",
        "        e = np.zeros_like(x)\n",
        "        e[0] = np.linalg.norm(x)\n",
        "        u = x - e\n",
        "        v = u / np.linalg.norm(u)\n",
        "        Q_cnt = np.identity(r)\n",
        "        Q_cnt[cnt:, cnt:] -= 2.0 * np.outer(v, v)\n",
        "        R = np.dot(Q_cnt, R)  # R=H(n-1)*...*H(2)*H(1)*A\n",
        "        Q = np.dot(Q, Q_cnt)  # Q=H(n-1)*...*H(2)*H(1)  H is the self inverse matrix\n",
        "    return (Q, R)\n",
        "\n",
        "np.set_printoptions(precision=4, suppress=True)\n",
        "A = np.array([[3, 8, 1],[4, 7, -4],[2, 1, -4],[1, 0, 3]], dtype = float)\n",
        "\n",
        "(Q, R) = householder_reflection(A)\n",
        "print(Q)\n",
        "print(R)\n",
        "print(np.dot(Q, R))"
      ],
      "metadata": {
        "colab": {
          "base_uri": "https://localhost:8080/"
        },
        "id": "C-WEPWeBciYR",
        "outputId": "dd52a792-929e-48d4-df50-84e901a1af45"
      },
      "execution_count": null,
      "outputs": [
        {
          "output_type": "stream",
          "name": "stdout",
          "text": [
            "[[ 0.5477  0.6343  0.2887 -0.4629]\n",
            " [ 0.7303 -0.0488 -0.2887  0.6172]\n",
            " [ 0.3651 -0.6343 -0.2887 -0.6172]\n",
            " [ 0.1826 -0.4392  0.866   0.1543]]\n",
            "[[ 5.4772  9.859  -3.2863]\n",
            " [ 0.      4.0988  2.0494]\n",
            " [ 0.      0.      5.1962]\n",
            " [-0.     -0.     -0.    ]]\n",
            "[[ 3.  8.  1.]\n",
            " [ 4.  7. -4.]\n",
            " [ 2.  1. -4.]\n",
            " [ 1. -0.  3.]]\n"
          ]
        }
      ]
    }
  ]
}